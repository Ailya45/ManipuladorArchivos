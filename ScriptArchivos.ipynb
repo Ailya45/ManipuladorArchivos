{
  "nbformat": 4,
  "nbformat_minor": 0,
  "metadata": {
    "colab": {
      "provenance": [],
      "authorship_tag": "ABX9TyNoVvSnR9kGu7XNG1TXa9+8",
      "include_colab_link": true
    },
    "kernelspec": {
      "name": "python3",
      "display_name": "Python 3"
    },
    "language_info": {
      "name": "python"
    }
  },
  "cells": [
    {
      "cell_type": "markdown",
      "metadata": {
        "id": "view-in-github",
        "colab_type": "text"
      },
      "source": [
        "<a href=\"https://colab.research.google.com/github/Velangel/ManipuladorArchivos/blob/main/ScriptArchivos.ipynb\" target=\"_parent\"><img src=\"https://colab.research.google.com/assets/colab-badge.svg\" alt=\"Open In Colab\"/></a>"
      ]
    },
    {
      "cell_type": "code",
      "execution_count": null,
      "metadata": {
        "colab": {
          "base_uri": "https://localhost:8080/"
        },
        "id": "jbBhupG442Za",
        "outputId": "42efa5ff-de16-48dc-e766-693addd00d4d"
      },
      "outputs": [
        {
          "output_type": "stream",
          "name": "stdout",
          "text": [
            "╔════════════════════════════════════════════╗\n",
            "║               MENU PRINCIPAL.                      ║\n",
            "╠════════════════════════════════════════════╣\n",
            "║ 1. Crear un archivo.      2. Leer un archivo.      ║\n",
            "║ 3. Agregar texto.         4. Reemplazar texto.     ║\n",
            "║ 5. Salir                                          ║\n",
            "╚════════════════════════════════════════════╝\n"
          ]
        }
      ],
      "source": [
        "import sys\n",
        "\n",
        "def ArchivoNuevo():\n",
        "\n",
        "    try:\n",
        "\n",
        "        nombre = input(\"Ingrese el nombre del archivo que desea crear: \")\n",
        "\n",
        "        with open(nombre+\".txt\", \"w\", encoding=\"utf-8\")as archivo:\n",
        "            texto = input(\"Ingrese texto a agregar: \")\n",
        "            archivo.write(texto)\n",
        "\n",
        "        print(\"Archivo creado con exito.\")\n",
        "    except IOError as e:\n",
        "        print(\"Error al escribir en el archivo: {e}\")\n",
        "\n",
        "def LeerArchivo():\n",
        "    nombre = input(\"Ingrese el nombre del archivo a leer: \")\n",
        "\n",
        "    try:\n",
        "\n",
        "        with open(nombre+\".txt\", \"r\", encoding=\"utf-8\")as archivo:\n",
        "            for lineas in archivo:\n",
        "                print(lineas.strip())\n",
        "            pos = archivo.tell()\n",
        "            print('El archivo de texto tiene una longitud de {0} caracteres'.format(pos))\n",
        "\n",
        "    except FileNotFoundError:\n",
        "        print(\"Archivo inexistente.\")\n",
        "\n",
        "def AgregarTexto():\n",
        "\n",
        "    nombre = input(\"Ingrese el nombre del archivo: \")\n",
        "\n",
        "    try:\n",
        "\n",
        "        with open(nombre+\".txt\", \"a\", encoding=\"utf-8\")as archivo:\n",
        "            texto = input(\"Ingrese texto a agregar: \")\n",
        "            archivo.write(texto)\n",
        "\n",
        "        print(\"Texto agregado con exito.\")\n",
        "\n",
        "    except IOError as e:\n",
        "        print(\"Error al agregar contenido en el archivo: {e}\")\n",
        "\n",
        "def ReemplazarTexto():\n",
        "\n",
        "    nombre = input(\"Ingrese el nombre del archivo: \")\n",
        "\n",
        "    try:\n",
        "\n",
        "        with open(nombre+\".txt\", \"w\", encoding=\"utf-8\")as archivo:\n",
        "            texto = input(\"Ingrese texto a agregar: \")\n",
        "            archivo.write(texto)\n",
        "\n",
        "        print(\"Texto reemplazado con exito.\")\n",
        "\n",
        "    except IOError as e:\n",
        "        print(\"Error al reemplazar contenido en el archivo: {e}\")\n",
        "\n",
        "\n",
        "while True:\n",
        "    print(\"╔════════════════════════════════════════════╗\")\n",
        "    print(\"║               MENU PRINCIPAL.                      ║\")\n",
        "    print(\"╠════════════════════════════════════════════╣\")\n",
        "    print(\"║ 1. Crear un archivo.      2. Leer un archivo.      ║\")\n",
        "    print(\"║ 3. Agregar texto.         4. Reemplazar texto.     ║\")\n",
        "    print(\"║ 5. Salir                                           ║\")\n",
        "    print(\"╚════════════════════════════════════════════╝\")\n",
        "\n",
        "    opcion = input(\"Seleccione una opcion entre [1 - 5] -> \")\n",
        "\n",
        "    if opcion == \"1\":\n",
        "        ArchivoNuevo()\n",
        "    elif opcion == \"2\":\n",
        "        LeerArchivo()\n",
        "    elif opcion == \"3\":\n",
        "        AgregarTexto()\n",
        "    elif opcion == \"4\":\n",
        "        ReemplazarTexto()\n",
        "    elif opcion == \"5\":\n",
        "        sys.exit()\n",
        "    else:\n",
        "        print(\"Opcion invalida.\")"
      ]
    }
  ]
}